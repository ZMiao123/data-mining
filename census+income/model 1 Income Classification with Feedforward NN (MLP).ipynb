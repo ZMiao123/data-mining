{
 "cells": [
  {
   "cell_type": "markdown",
   "metadata": {},
   "source": [
    "# <span><h1 style = \"font-family: garamond; font-size: 40px; font-style: normal; letter-spcaing: 3px; background-color: #f6f5f5; color :#1e9570; border-radius: 100px 100px; text-align:center\">Import Required Libraries</h1></span> <a class='anchor' id='install'></a>"
   ]
  },
  {
   "cell_type": "code",
   "execution_count": 1,
   "metadata": {
    "execution": {
     "iopub.execute_input": "2023-05-18T16:49:20.036876Z",
     "iopub.status.busy": "2023-05-18T16:49:20.036504Z",
     "iopub.status.idle": "2023-05-18T16:49:20.043633Z",
     "shell.execute_reply": "2023-05-18T16:49:20.042415Z",
     "shell.execute_reply.started": "2023-05-18T16:49:20.036841Z"
    }
   },
   "outputs": [],
   "source": [
    "# Data Processing\n",
    "import pandas as pd\n",
    "import numpy as np\n",
    "from sklearn.model_selection import train_test_split \n",
    "from sklearn.preprocessing import LabelEncoder, OneHotEncoder, StandardScaler\n",
    "\n",
    "# Plotting\n",
    "import seaborn as sns\n",
    "import matplotlib.pyplot as plt\n",
    "from sklearn.metrics import confusion_matrix\n",
    "from sklearn.metrics import classification_report\n",
    "from matplotlib import rcParams\n",
    "\n",
    "# Main Library\n",
    "import torch \n",
    "from torch import nn\n",
    "# Setup device agnostic code (Using GPU)\n",
    "DEVICE = \"cuda:0\" if torch.cuda.is_available() else \"cpu\" \n"
   ]
  },
  {
   "cell_type": "code",
   "execution_count": 2,
   "metadata": {
    "execution": {
     "iopub.execute_input": "2023-05-18T16:49:20.045946Z",
     "iopub.status.busy": "2023-05-18T16:49:20.045299Z",
     "iopub.status.idle": "2023-05-18T16:49:20.055939Z",
     "shell.execute_reply": "2023-05-18T16:49:20.054787Z",
     "shell.execute_reply.started": "2023-05-18T16:49:20.045912Z"
    }
   },
   "outputs": [
    {
     "name": "stdout",
     "output_type": "stream",
     "text": [
      "GPU is not available, using CPU\n"
     ]
    }
   ],
   "source": [
    "# Check if GPU is available\n",
    "if torch.cuda.is_available():\n",
    "    device = torch.device(\"cuda\")\n",
    "    print(\"GPU is available\")\n",
    "else:\n",
    "    device = torch.device(\"cpu\")\n",
    "    print(\"GPU is not available, using CPU\")"
   ]
  },
  {
   "cell_type": "markdown",
   "metadata": {},
   "source": [
    "# <span><h1 style = \"font-family: garamond; font-size: 40px; font-style: normal; letter-spcaing: 3px; background-color: #f6f5f5; color :#1e9570; border-radius: 100px 100px; text-align:center\">Proper Data Cleaning 📚</h1></span>  <a class='anchor' id='import'></a>"
   ]
  },
  {
   "cell_type": "code",
   "execution_count": 4,
   "metadata": {
    "execution": {
     "iopub.execute_input": "2023-05-18T16:49:20.058562Z",
     "iopub.status.busy": "2023-05-18T16:49:20.057779Z",
     "iopub.status.idle": "2023-05-18T16:49:20.142398Z",
     "shell.execute_reply": "2023-05-18T16:49:20.141467Z",
     "shell.execute_reply.started": "2023-05-18T16:49:20.058508Z"
    }
   },
   "outputs": [],
   "source": [
    "df_0= pd.read_csv('data/adult.csv')\n",
    "df = df_0.copy()\n",
    "Rnd_seed = 123"
   ]
  },
  {
   "cell_type": "code",
   "execution_count": 5,
   "metadata": {
    "execution": {
     "iopub.execute_input": "2023-05-18T16:49:20.145228Z",
     "iopub.status.busy": "2023-05-18T16:49:20.144649Z",
     "iopub.status.idle": "2023-05-18T16:49:20.153557Z",
     "shell.execute_reply": "2023-05-18T16:49:20.152471Z",
     "shell.execute_reply.started": "2023-05-18T16:49:20.145193Z"
    }
   },
   "outputs": [],
   "source": [
    "def find_features_with_missing_values(df):\n",
    "    # Replace characters with NaN\n",
    "    replace_chars = [\"\\n\", \"\\n?\\n\", \"?\",\"\\n?\",\" ?\",\"? \",\" ? \",\" ?\\n\"]\n",
    "    if any(char in df.values for char in replace_chars):\n",
    "        df.replace(replace_chars, np.nan, inplace=True)\n",
    "        print(\"Successfully replaced characters with NaN.\")\n",
    "    \n",
    "    # Find features with missing values\n",
    "    features_with_null = [feature for feature in df.columns if df[feature].isnull().sum() > 0]\n",
    "    if not features_with_null:\n",
    "        print(\"No missing values found in any features.\")\n",
    "    else:\n",
    "        for feature in features_with_null:\n",
    "            print(f\"{feature}: {round(df[feature].isnull().mean() * 100, 2)}%\")\n",
    "    return features_with_null\n"
   ]
  },
  {
   "cell_type": "code",
   "execution_count": 6,
   "metadata": {
    "execution": {
     "iopub.execute_input": "2023-05-18T16:49:20.155625Z",
     "iopub.status.busy": "2023-05-18T16:49:20.155153Z",
     "iopub.status.idle": "2023-05-18T16:49:20.44737Z",
     "shell.execute_reply": "2023-05-18T16:49:20.446412Z",
     "shell.execute_reply.started": "2023-05-18T16:49:20.155592Z"
    }
   },
   "outputs": [
    {
     "name": "stdout",
     "output_type": "stream",
     "text": [
      "Successfully replaced characters with NaN.\n",
      "workclass: 5.64%\n",
      "occupation: 5.66%\n",
      "native.country: 1.79%\n"
     ]
    },
    {
     "data": {
      "text/plain": [
       "['workclass', 'occupation', 'native.country']"
      ]
     },
     "execution_count": 6,
     "metadata": {},
     "output_type": "execute_result"
    }
   ],
   "source": [
    "find_features_with_missing_values(df)"
   ]
  },
  {
   "cell_type": "code",
   "execution_count": 7,
   "metadata": {
    "execution": {
     "iopub.execute_input": "2023-05-18T16:49:20.449323Z",
     "iopub.status.busy": "2023-05-18T16:49:20.448961Z",
     "iopub.status.idle": "2023-05-18T16:49:20.533004Z",
     "shell.execute_reply": "2023-05-18T16:49:20.53187Z",
     "shell.execute_reply.started": "2023-05-18T16:49:20.449291Z"
    }
   },
   "outputs": [],
   "source": [
    "# Change NaN values with \"missing\"\n",
    "df = df.fillna(\"Missing\")"
   ]
  },
  {
   "cell_type": "code",
   "execution_count": 8,
   "metadata": {
    "execution": {
     "iopub.execute_input": "2023-05-18T16:49:20.536819Z",
     "iopub.status.busy": "2023-05-18T16:49:20.536506Z",
     "iopub.status.idle": "2023-05-18T16:49:20.542719Z",
     "shell.execute_reply": "2023-05-18T16:49:20.541664Z",
     "shell.execute_reply.started": "2023-05-18T16:49:20.536793Z"
    }
   },
   "outputs": [],
   "source": [
    "# Rename the columns\n",
    "df.columns = ['age', 'workclass', 'fnlwgt', 'education', 'education-num',\n",
    "              'marital-status', 'occupation', 'relationship', 'race', 'sex',\n",
    "              'capital-gain', 'capital-loss', 'hours-per-week', 'native-country',\n",
    "              'income']"
   ]
  },
  {
   "cell_type": "code",
   "execution_count": 9,
   "metadata": {
    "execution": {
     "iopub.execute_input": "2023-05-18T16:49:20.544938Z",
     "iopub.status.busy": "2023-05-18T16:49:20.544559Z",
     "iopub.status.idle": "2023-05-18T16:49:20.5709Z",
     "shell.execute_reply": "2023-05-18T16:49:20.57008Z",
     "shell.execute_reply.started": "2023-05-18T16:49:20.544853Z"
    }
   },
   "outputs": [
    {
     "data": {
      "text/plain": [
       "1       0.749571\n",
       ">50K    0.250429\n",
       "Name: income, dtype: float64"
      ]
     },
     "execution_count": 9,
     "metadata": {},
     "output_type": "execute_result"
    }
   ],
   "source": [
    "# show the same  \"Missing\" and their \"income\" values for native country\n",
    "df[df[\"native-country\"] == \"Missing\"][\"income\"].value_counts(normalize=True)"
   ]
  },
  {
   "cell_type": "markdown",
   "metadata": {},
   "source": [
    ">Note: Class target is  25% for \"Missing\" country. So, decided to keep them since the dataset is already imbalanecd"
   ]
  },
  {
   "cell_type": "code",
   "execution_count": 10,
   "metadata": {
    "execution": {
     "iopub.execute_input": "2023-05-18T16:49:20.573051Z",
     "iopub.status.busy": "2023-05-18T16:49:20.572655Z",
     "iopub.status.idle": "2023-05-18T16:49:20.634464Z",
     "shell.execute_reply": "2023-05-18T16:49:20.633578Z",
     "shell.execute_reply.started": "2023-05-18T16:49:20.573018Z"
    }
   },
   "outputs": [
    {
     "name": "stdout",
     "output_type": "stream",
     "text": [
      "New narrowed categories : \n",
      "Professional_Managerial     8855\n",
      "Skilled_Technical           8626\n",
      "Sales_Administrative        7420\n",
      "Service_Care                5808\n",
      "Unclassified Occupations    1852\n",
      "Name: new_occupation, dtype: int64\n"
     ]
    }
   ],
   "source": [
    "# Clean up occupation column by removing any leading/trailing spaces\n",
    "df['occupation'] = df['occupation'].str.strip()\n",
    "# Replace occupation categories with new categories\n",
    "df['new_occupation'] = df['occupation'].replace({\n",
    "    'Prof-specialty': 'Professional_Managerial',\n",
    "    'Craft-repair': 'Skilled_Technical',\n",
    "    'Exec-managerial': 'Professional_Managerial',\n",
    "    'Adm-clerical': 'Sales_Administrative',\n",
    "    'Sales': 'Sales_Administrative',\n",
    "    'Other-service': 'Service_Care',\n",
    "    'Machine-op-inspct': 'Skilled_Technical',\n",
    "    'Missing': 'Unclassified Occupations',\n",
    "    'Transport-moving': 'Skilled_Technical',\n",
    "    'Handlers-cleaners': 'Service_Care',\n",
    "    'Farming-fishing': 'Service_Care',\n",
    "    'Tech-support': 'Skilled_Technical',\n",
    "    'Protective-serv': 'Professional_Managerial',\n",
    "    'Priv-house-serv': 'Service_Care',\n",
    "    'Armed-Forces': 'Unclassified Occupations',\n",
    "})\n",
    "\n",
    "# Check value counts of new occupation column\n",
    "df.drop(['occupation'], axis=1,inplace=True)\n",
    "print(f\"New narrowed categories : \\n{df['new_occupation'].value_counts()}\")"
   ]
  },
  {
   "cell_type": "code",
   "execution_count": 11,
   "metadata": {
    "execution": {
     "iopub.execute_input": "2023-05-18T16:49:20.638928Z",
     "iopub.status.busy": "2023-05-18T16:49:20.637964Z",
     "iopub.status.idle": "2023-05-18T16:49:20.683709Z",
     "shell.execute_reply": "2023-05-18T16:49:20.682857Z",
     "shell.execute_reply.started": "2023-05-18T16:49:20.638894Z"
    }
   },
   "outputs": [],
   "source": [
    "data_types = {'age': 'uint8',\n",
    "               'workclass': 'category',\n",
    "               'fnlwgt': 'int32',\n",
    "               'education': 'category',\n",
    "               'education-num': 'uint8',\n",
    "               'marital-status': 'category',\n",
    "               'new_occupation': 'category',\n",
    "               'relationship': 'category',\n",
    "               'race': 'category',\n",
    "               'sex': 'category',\n",
    "               'capital-gain': 'int32',\n",
    "               'capital-loss': 'int32',\n",
    "               'hours-per-week': 'uint8',\n",
    "               'native-country': 'category',\n",
    "               'income': 'category'}\n",
    "df = df.astype(data_types)\n",
    "\n",
    "# drop education and native country columns\n",
    "df.drop(['education'], axis=1,inplace=True)\n",
    "df.drop(['native-country'], axis=1,inplace=True)"
   ]
  },
  {
   "cell_type": "markdown",
   "metadata": {},
   "source": [
    "# <span><h1 style = \"font-family: garamond; font-size: 40px; font-style: normal; letter-spcaing: 3px; background-color: #f6f5f5; color :#1e9570; border-radius: 100px 100px; text-align:center\">Exploratory Data Analysis (EDA) 🔍</h1></span> <a class='anchor' id='eda'></a>\n",
    " "
   ]
  },
  {
   "cell_type": "code",
   "execution_count": 12,
   "metadata": {
    "execution": {
     "iopub.execute_input": "2023-05-18T16:49:22.700525Z",
     "iopub.status.busy": "2023-05-18T16:49:22.700156Z",
     "iopub.status.idle": "2023-05-18T16:49:23.166083Z",
     "shell.execute_reply": "2023-05-18T16:49:23.165188Z",
     "shell.execute_reply.started": "2023-05-18T16:49:22.700482Z"
    }
   },
   "outputs": [
    {
     "data": {
      "text/plain": [
       "<Axes: xlabel='age', ylabel='Density'>"
      ]
     },
     "execution_count": 12,
     "metadata": {},
     "output_type": "execute_result"
    },
    {
     "data": {
      "image/png": "[encoded data removed]",
      "text/plain": [
       "<Figure size 640x480 with 1 Axes>"
      ]
     },
     "metadata": {},
     "output_type": "display_data"
    }
   ],
   "source": [
    "# Visualize Target Class (Income)\n",
    "columns = list(df.columns)\n",
    "sns.kdeplot(data=df, x=columns.pop(0), hue=\"income\", multiple=\"stack\")"
   ]
  },
  {
   "cell_type": "code",
   "execution_count": 13,
   "metadata": {
    "execution": {
     "iopub.execute_input": "2023-05-18T16:33:26.422596Z",
     "iopub.status.busy": "2023-05-18T16:33:26.421727Z",
     "iopub.status.idle": "2023-05-18T16:33:27.417745Z",
     "shell.execute_reply": "2023-05-18T16:33:27.416736Z",
     "shell.execute_reply.started": "2023-05-18T16:33:26.422561Z"
    }
   },
   "outputs": [
    {
     "data": {
      "text/plain": [
       "array([[<Axes: title={'center': 'age'}>,\n",
       "        <Axes: title={'center': 'fnlwgt'}>],\n",
       "       [<Axes: title={'center': 'education-num'}>,\n",
       "        <Axes: title={'center': 'capital-gain'}>],\n",
       "       [<Axes: title={'center': 'capital-loss'}>,\n",
       "        <Axes: title={'center': 'hours-per-week'}>]], dtype=object)"
      ]
     },
     "execution_count": 13,
     "metadata": {},
     "output_type": "execute_result"
    },
    {
     "data": {
      "image/png": "[encoded data removed]",
      "text/plain": [
       "<Figure size 800x800 with 6 Axes>"
      ]
     },
     "metadata": {},
     "output_type": "display_data"
    }
   ],
   "source": [
    "#Visualizing the numerical features of the dataset using histograms to analyze the distribution of those features in the dataset\n",
    "\n",
    "rcParams['figure.figsize'] = 8, 8\n",
    "df[['age', 'fnlwgt', 'education-num', 'capital-gain', 'capital-loss', 'hours-per-week']].hist()\n"
   ]
  },
  {
   "cell_type": "code",
   "execution_count": 14,
   "metadata": {
    "execution": {
     "iopub.execute_input": "2023-05-18T16:33:27.420058Z",
     "iopub.status.busy": "2023-05-18T16:33:27.419408Z",
     "iopub.status.idle": "2023-05-18T16:33:27.726678Z",
     "shell.execute_reply": "2023-05-18T16:33:27.72578Z",
     "shell.execute_reply.started": "2023-05-18T16:33:27.420021Z"
    }
   },
   "outputs": [
    {
     "data": {
      "text/plain": [
       "<Axes: xlabel='income', ylabel='count'>"
      ]
     },
     "execution_count": 14,
     "metadata": {},
     "output_type": "execute_result"
    },
    {
     "data": {
      "image/png": "[encoded data removed]",
      "text/plain": [
       "<Figure size 800x800 with 1 Axes>"
      ]
     },
     "metadata": {},
     "output_type": "display_data"
    }
   ],
   "source": [
    "sns.countplot(x = 'income', hue = 'new_occupation', data = df)"
   ]
  },
  {
   "cell_type": "markdown",
   "metadata": {},
   "source": [
    "# <span><h1 style = \"font-family: garamond; font-size: 40px; font-style: normal; letter-spcaing: 3px; background-color: #f6f5f5; color :#1e9570; border-radius: 100px 100px; text-align:center\">Process 1 : Only Label Encoding Applied 🌌</h1></span> <a class='anchor' id='tsne'></a>\n",
    " "
   ]
  },
  {
   "cell_type": "code",
   "execution_count": 15,
   "metadata": {
    "execution": {
     "iopub.execute_input": "2023-05-18T16:33:27.728925Z",
     "iopub.status.busy": "2023-05-18T16:33:27.727994Z",
     "iopub.status.idle": "2023-05-18T16:33:27.798461Z",
     "shell.execute_reply": "2023-05-18T16:33:27.797577Z",
     "shell.execute_reply.started": "2023-05-18T16:33:27.728888Z"
    }
   },
   "outputs": [],
   "source": [
    "\n",
    "label_encoder = LabelEncoder()\n",
    "df_encoded = df.copy()  # Create a copy of the DataFrame for encoded values\n",
    "\n",
    "# Apply label encoding to each categorical column\n",
    "categorical_columns = ['workclass', 'marital-status', 'new_occupation', 'relationship', \"race\",'sex', 'income']\n",
    "for column in categorical_columns:\n",
    "    df_encoded[column] = label_encoder.fit_transform(df[column])\n",
    "\n",
    "# The encoded DataFrame df_encoded now contains the label encoded values"
   ]
  },
  {
   "cell_type": "code",
   "execution_count": 16,
   "metadata": {
    "execution": {
     "iopub.execute_input": "2023-05-18T16:33:27.800033Z",
     "iopub.status.busy": "2023-05-18T16:33:27.799684Z",
     "iopub.status.idle": "2023-05-18T16:33:27.812443Z",
     "shell.execute_reply": "2023-05-18T16:33:27.811391Z",
     "shell.execute_reply.started": "2023-05-18T16:33:27.800001Z"
    }
   },
   "outputs": [],
   "source": [
    "X = df_encoded.drop(['income'], axis=1)\n",
    "y = df_encoded['income']\n",
    "X, y = X.to_numpy(), y.to_numpy() # turn df to numpy arrays"
   ]
  },
  {
   "cell_type": "code",
   "execution_count": 17,
   "metadata": {
    "execution": {
     "iopub.execute_input": "2023-05-18T16:33:27.814708Z",
     "iopub.status.busy": "2023-05-18T16:33:27.814279Z",
     "iopub.status.idle": "2023-05-18T16:33:27.827085Z",
     "shell.execute_reply": "2023-05-18T16:33:27.825793Z",
     "shell.execute_reply.started": "2023-05-18T16:33:27.814675Z"
    }
   },
   "outputs": [
    {
     "name": "stdout",
     "output_type": "stream",
     "text": [
      "Train shapes : (torch.Size([22792, 12]), torch.Size([22792]))\n",
      " Test shapes : (torch.Size([9769, 12]), torch.Size([9769]))\n"
     ]
    }
   ],
   "source": [
    "# Turn data into tensors of dtype float\n",
    "X = torch.from_numpy(X).type(torch.float) \n",
    "y = torch.from_numpy(y).type(torch.float)\n",
    "\n",
    "# Apply split function to split the data into train and test sets\n",
    "X_train, X_test, y_train, y_test = train_test_split(X, y, test_size = 0.3, random_state = Rnd_seed)\n",
    "print(f\"Train shapes : {X_train.shape, y_train.shape}\")\n",
    "print(f\" Test shapes : {X_test.shape, y_test.shape}\")                                                                                                "
   ]
  },
  {
   "cell_type": "markdown",
   "metadata": {},
   "source": [
    "# <span><h1 style = \"font-family: garamond; font-size: 40px; font-style: normal; letter-spcaing: 3px; background-color: #f6f5f5; color :#1e9570; border-radius: 100px 100px; text-align:center\">Feedforward NN (without dropout) a simple version of the model 🛠️</h1></span> <a class='anchor' id='data'></a>\n",
    "\n",
    " "
   ]
  },
  {
   "cell_type": "code",
   "execution_count": 18,
   "metadata": {
    "execution": {
     "iopub.execute_input": "2023-05-18T16:33:27.829406Z",
     "iopub.status.busy": "2023-05-18T16:33:27.829034Z",
     "iopub.status.idle": "2023-05-18T16:33:27.836692Z",
     "shell.execute_reply": "2023-05-18T16:33:27.835536Z",
     "shell.execute_reply.started": "2023-05-18T16:33:27.82936Z"
    }
   },
   "outputs": [
    {
     "name": "stdout",
     "output_type": "stream",
     "text": [
      "GPU is not available, using CPU\n"
     ]
    }
   ],
   "source": [
    "# Check if GPU is available\n",
    "\n",
    "if torch.cuda.is_available():\n",
    "    device = torch.device(\"cuda\")\n",
    "    print(\"GPU is available\")\n",
    "else:\n",
    "    device = torch.device(\"cpu\")\n",
    "    print(\"GPU is not available, using CPU\")"
   ]
  },
  {
   "cell_type": "code",
   "execution_count": 19,
   "metadata": {
    "execution": {
     "iopub.execute_input": "2023-05-18T16:33:27.839154Z",
     "iopub.status.busy": "2023-05-18T16:33:27.838424Z",
     "iopub.status.idle": "2023-05-18T16:33:27.853341Z",
     "shell.execute_reply": "2023-05-18T16:33:27.852216Z",
     "shell.execute_reply.started": "2023-05-18T16:33:27.839118Z"
    }
   },
   "outputs": [
    {
     "data": {
      "text/plain": [
       "Classification_AdultCensus(\n",
       "  (layer_1): Linear(in_features=12, out_features=128, bias=True)\n",
       "  (layer_2): Linear(in_features=128, out_features=64, bias=True)\n",
       "  (layer_3): Linear(in_features=64, out_features=1, bias=True)\n",
       "  (relu): ReLU()\n",
       ")"
      ]
     },
     "execution_count": 19,
     "metadata": {},
     "output_type": "execute_result"
    }
   ],
   "source": [
    "# Inherit from nn.Module to make a model \n",
    "class Classification_AdultCensus(nn.Module):\n",
    "    def __init__(self):\n",
    "        super().__init__()\n",
    "        self.layer_1 = nn.Linear(in_features=12, out_features=128)\n",
    "        self.layer_2 = nn.Linear(in_features=128,out_features=64)\n",
    "        self.layer_3 = nn.Linear(in_features=64,out_features=1)\n",
    "        self.relu = nn.ReLU()\n",
    "\n",
    "    def forward(self, x: torch.Tensor ) -> torch.Tensor:\n",
    "        network = self.layer_3(self.relu(self.layer_2(self.relu(self.layer_1(x)))))\n",
    "        return network\n",
    "\n",
    "# Instantiate the model\n",
    "\n",
    "model_1 = Classification_AdultCensus()\n",
    "# SEND IT TO THE TARGET DEVICE\n",
    "model_1 = Classification_AdultCensus().to(DEVICE)\n",
    "## Your code here ##\n",
    "model_1"
   ]
  },
  {
   "cell_type": "code",
   "execution_count": 20,
   "metadata": {
    "execution": {
     "iopub.execute_input": "2023-05-18T16:33:27.855403Z",
     "iopub.status.busy": "2023-05-18T16:33:27.854974Z",
     "iopub.status.idle": "2023-05-18T16:33:27.861004Z",
     "shell.execute_reply": "2023-05-18T16:33:27.8598Z",
     "shell.execute_reply.started": "2023-05-18T16:33:27.855361Z"
    }
   },
   "outputs": [],
   "source": [
    "# Setup loss function Binary cross entropy\n",
    "Binary_Loss = nn.BCEWithLogitsLoss() # NO logloss ? \n",
    "# Setup optimizer to optimize model's parameters\n",
    "opt = torch.optim.SGD(model_1.parameters(),\n",
    "                      lr=0.01) # lr = learning rate "
   ]
  },
  {
   "cell_type": "code",
   "execution_count": 21,
   "metadata": {
    "execution": {
     "iopub.execute_input": "2023-05-18T16:33:27.863678Z",
     "iopub.status.busy": "2023-05-18T16:33:27.862885Z",
     "iopub.status.idle": "2023-05-18T16:33:42.381242Z",
     "shell.execute_reply": "2023-05-18T16:33:42.380026Z",
     "shell.execute_reply.started": "2023-05-18T16:33:27.863626Z"
    }
   },
   "outputs": [
    {
     "name": "stdout",
     "output_type": "stream",
     "text": [
      "Epoch: 0 | Loss: 5228.7021 | Test Loss: 190233083904.0000\n",
      "Epoch: 2000 | Loss: 0.5516 | Test Loss: 0.5530\n",
      "Epoch: 4000 | Loss: 0.5516 | Test Loss: 0.5530\n",
      "Epoch: 6000 | Loss: 0.5516 | Test Loss: 0.5530\n",
      "Epoch: 8000 | Loss: 0.5516 | Test Loss: 0.5530\n",
      "\n",
      "Train Classification Report:\n",
      "              precision    recall  f1-score   support\n",
      "\n",
      "       <=50K     0.7596    1.0000    0.8634     17312\n",
      "        >50K     1.0000    0.0000    0.0000      5480\n",
      "\n",
      "    accuracy                         0.7596     22792\n",
      "   macro avg     0.8798    0.5000    0.4317     22792\n",
      "weighted avg     0.8174    0.7596    0.6558     22792\n",
      "\n",
      "\n",
      "Test Classification Report:\n",
      "              precision    recall  f1-score   support\n",
      "\n",
      "       <=50K     0.7583    1.0000    0.8625      7408\n",
      "        >50K     1.0000    0.0000    0.0000      2361\n",
      "\n",
      "    accuracy                         0.7583      9769\n",
      "   macro avg     0.8792    0.5000    0.4313      9769\n",
      "weighted avg     0.8167    0.7583    0.6541      9769\n",
      "\n"
     ]
    }
   ],
   "source": [
    "\n",
    "\n",
    "# Set up the optimizer and loss function\n",
    "optimizer = torch.optim.SGD(model_1.parameters(), lr=0.01)\n",
    "criterion = nn.BCEWithLogitsLoss()\n",
    "\n",
    "torch.manual_seed(42)\n",
    "\n",
    "# Set the number of epochs\n",
    "epochs = 10000\n",
    "\n",
    "# Put data to the target device\n",
    "X_train, y_train = X_train.to(DEVICE), y_train.to(DEVICE)\n",
    "X_test, y_test = X_test.to(DEVICE), y_test.to(DEVICE)\n",
    "\n",
    "# Build the training and evaluation loop\n",
    "for epoch in range(epochs):\n",
    "    ### Training\n",
    "    model_1.train()\n",
    "    optimizer.zero_grad()\n",
    "\n",
    "    # Forward pass\n",
    "    y_logits = model_1(X_train).squeeze()\n",
    "    loss = criterion(y_logits, y_train)\n",
    "  \n",
    "    # Backward pass and optimization\n",
    "    loss.backward()\n",
    "    optimizer.step()\n",
    "\n",
    "    ### Testing\n",
    "    model_1.eval()\n",
    "    with torch.no_grad():\n",
    "        test_logits = model_1(X_test).squeeze()\n",
    "        test_loss = criterion(test_logits, y_test)\n",
    "        test_pred = torch.round(torch.sigmoid(test_logits))\n",
    "\n",
    "    if epoch % 2000 == 0:\n",
    "        print(f\"Epoch: {epoch} | Loss: {loss.item():.4f} | Test Loss: {test_loss.item():.4f}\")\n",
    "\n",
    "train_pred = torch.round(torch.sigmoid(model_1(X_train).squeeze()))\n",
    "test_pred = torch.round(torch.sigmoid(model_1(X_test).squeeze()))\n",
    "train_score_0 = classification_report(y_train.cpu().detach().numpy(), train_pred.cpu().detach().numpy(), zero_division=1,digits=4,target_names=['<=50K', '>50K'])\n",
    "test_score_0 = classification_report(y_test.cpu().detach().numpy(), test_pred.cpu().detach().numpy(), zero_division=1,digits=4,target_names=['<=50K', '>50K'])\n",
    "\n",
    "print(f\"\\nTrain Classification Report:\\n{train_score_0}\")\n",
    "print(f\"\\nTest Classification Report:\\n{test_score_0}\")\n"
   ]
  },
  {
   "cell_type": "code",
   "execution_count": 22,
   "metadata": {
    "execution": {
     "iopub.execute_input": "2023-05-18T16:33:42.384631Z",
     "iopub.status.busy": "2023-05-18T16:33:42.383948Z",
     "iopub.status.idle": "2023-05-18T16:33:42.651135Z",
     "shell.execute_reply": "2023-05-18T16:33:42.650246Z",
     "shell.execute_reply.started": "2023-05-18T16:33:42.384592Z"
    }
   },
   "outputs": [
    {
     "data": {
      "image/png": "[encoded data removed]",
      "text/plain": [
       "<Figure size 1000x700 with 2 Axes>"
      ]
     },
     "metadata": {},
     "output_type": "display_data"
    }
   ],
   "source": [
    "\n",
    "y_test_np = y_test.cpu().detach().numpy().astype(int)  # Convert y_test to NumPy array of integers\n",
    "test_pred_np = test_pred.cpu().detach().numpy().astype(int)  # Convert test_pred to NumPy array of integers\n",
    "\n",
    "cm = confusion_matrix(y_test_np, test_pred_np)\n",
    "plt.figure(figsize=(10, 7))\n",
    "sns.heatmap(cm, annot=True, fmt=\"d\")\n",
    "plt.xlabel(\"Predicted Value\")\n",
    "plt.ylabel(\"Truth\")\n",
    "plt.show()"
   ]
  },
  {
   "cell_type": "markdown",
   "metadata": {},
   "source": [
    "# <span><h1 style = \"font-family: garamond; font-size: 40px; font-style: normal; letter-spcaing: 3px; background-color: #f6f5f5; color :#1e9570; border-radius: 100px 100px; text-align:center\">Process 2: One hot encoding, Standardization 📊</h1></span> <a class='anchor' id='ml'></a>\n",
    "\n",
    " "
   ]
  },
  {
   "cell_type": "code",
   "execution_count": 23,
   "metadata": {
    "execution": {
     "iopub.execute_input": "2023-05-18T16:33:42.654509Z",
     "iopub.status.busy": "2023-05-18T16:33:42.653652Z",
     "iopub.status.idle": "2023-05-18T16:33:42.782694Z",
     "shell.execute_reply": "2023-05-18T16:33:42.781718Z",
     "shell.execute_reply.started": "2023-05-18T16:33:42.654471Z"
    }
   },
   "outputs": [
    {
     "name": "stdout",
     "output_type": "stream",
     "text": [
      "(32561, 35)\n",
      "   workclass_1  workclass_2  workclass_3  workclass_4  workclass_5  \\\n",
      "0          0.0          0.0          0.0          0.0          0.0   \n",
      "1          0.0          0.0          0.0          0.0          1.0   \n",
      "2          0.0          0.0          1.0          0.0          0.0   \n",
      "\n",
      "   workclass_6  workclass_7  workclass_8  marital-status_1  marital-status_2  \\\n",
      "0          1.0          0.0          0.0               0.0               0.0   \n",
      "1          0.0          0.0          0.0               0.0               1.0   \n",
      "2          0.0          0.0          0.0               0.0               0.0   \n",
      "\n",
      "   ...  race_3  race_4  sex_1  age  fnlwgt  education-num  capital-gain  \\\n",
      "0  ...     0.0     1.0    1.0   39   77516             13          2174   \n",
      "1  ...     0.0     1.0    1.0   50   83311             13             0   \n",
      "2  ...     0.0     1.0    1.0   38  215646              9             0   \n",
      "\n",
      "   capital-loss  hours-per-week  income  \n",
      "0             0              40       1  \n",
      "1             0              13       1  \n",
      "2             0              40       1  \n",
      "\n",
      "[3 rows x 35 columns]\n"
     ]
    }
   ],
   "source": [
    "from sklearn.preprocessing import LabelEncoder, OneHotEncoder\n",
    "\n",
    "# Apply label encoding to the specified variables\n",
    "le1 = LabelEncoder()\n",
    "le2 = LabelEncoder()\n",
    "le3 = LabelEncoder()\n",
    "le4 = LabelEncoder()\n",
    "le5 = LabelEncoder()\n",
    "le6 = LabelEncoder()\n",
    "\n",
    "# Encode the categorical columns as numeric labels\n",
    "df['workclass'] = le1.fit_transform(df['workclass'])\n",
    "df['marital-status'] = le2.fit_transform(df['marital-status'])\n",
    "df['new_occupation'] = le3.fit_transform(df['new_occupation'])\n",
    "df['relationship'] = le4.fit_transform(df['relationship'])\n",
    "df['race'] = le5.fit_transform(df['race'])\n",
    "df['sex'] = le6.fit_transform(df['sex'])\n",
    "\n",
    "# Create instances of the OneHotEncoder class, specifying which columns to drop\n",
    "ohe1 = OneHotEncoder(drop='first')\n",
    "ohe2 = OneHotEncoder(drop='first')\n",
    "ohe3 = OneHotEncoder(drop='first')\n",
    "ohe4 = OneHotEncoder(drop='first')\n",
    "ohe5 = OneHotEncoder(drop='first')\n",
    "ohe6 = OneHotEncoder(drop='first')\n",
    "\n",
    "# Fit and transform the categorical features using one-hot encoding\n",
    "workclass_encoded = ohe1.fit_transform(df[['workclass']]).toarray()\n",
    "marital_encoded = ohe2.fit_transform(df[['marital-status']]).toarray()\n",
    "occupation_encoded = ohe3.fit_transform(df[['new_occupation']]).toarray()\n",
    "relationship_encoded = ohe4.fit_transform(df[['relationship']]).toarray()\n",
    "race_encoded = ohe5.fit_transform(df[['race']]).toarray()\n",
    "sex_encoded = ohe6.fit_transform(df[['sex']]).toarray()\n",
    "\n",
    "# Convert the encoded features to pandas DataFrames\n",
    "workclass_array = pd.DataFrame(workclass_encoded, columns=ohe1.get_feature_names_out())\n",
    "marital_array = pd.DataFrame(marital_encoded, columns=ohe2.get_feature_names_out())\n",
    "occupation_array = pd.DataFrame(occupation_encoded, columns=ohe3.get_feature_names_out())\n",
    "relationship_array = pd.DataFrame(relationship_encoded, columns=ohe4.get_feature_names_out())\n",
    "race_array = pd.DataFrame(race_encoded, columns=ohe5.get_feature_names_out())\n",
    "sex_array = pd.DataFrame(sex_encoded, columns=ohe6.get_feature_names_out())\n",
    "\n",
    "# Drop the original categorical features\n",
    "df_dropped = df.drop(['workclass', 'marital-status', 'new_occupation', 'relationship', 'race', 'sex'], axis=1)\n",
    "\n",
    "# Concatenate the encoded features with the numerical features\n",
    "df_encoded = pd.concat([workclass_array, marital_array, occupation_array, relationship_array, race_array, sex_array, df_dropped], axis=1)\n",
    "\n",
    "# Print the shape and the first three rows of the encoded dataset\n",
    "print(df_encoded.shape)\n",
    "print(df_encoded.head(3))\n"
   ]
  },
  {
   "cell_type": "code",
   "execution_count": 24,
   "metadata": {
    "execution": {
     "iopub.execute_input": "2023-05-18T16:33:42.785034Z",
     "iopub.status.busy": "2023-05-18T16:33:42.784348Z",
     "iopub.status.idle": "2023-05-18T16:33:42.801146Z",
     "shell.execute_reply": "2023-05-18T16:33:42.800185Z",
     "shell.execute_reply.started": "2023-05-18T16:33:42.784997Z"
    }
   },
   "outputs": [],
   "source": [
    "#apply only label encoding to target variable\n",
    "le = LabelEncoder()\n",
    "df_encoded['income'] = le.fit_transform(df_encoded['income'])"
   ]
  },
  {
   "cell_type": "code",
   "execution_count": 25,
   "metadata": {
    "execution": {
     "iopub.execute_input": "2023-05-18T16:33:42.802945Z",
     "iopub.status.busy": "2023-05-18T16:33:42.802502Z",
     "iopub.status.idle": "2023-05-18T16:33:42.831627Z",
     "shell.execute_reply": "2023-05-18T16:33:42.830615Z",
     "shell.execute_reply.started": "2023-05-18T16:33:42.802913Z"
    }
   },
   "outputs": [
    {
     "name": "stdout",
     "output_type": "stream",
     "text": [
      "Train shapes : (torch.Size([22792, 34]), torch.Size([22792]))\n",
      " Test shapes : (torch.Size([9769, 34]), torch.Size([9769]))\n"
     ]
    }
   ],
   "source": [
    "X = df_encoded.drop(['income'], axis=1)\n",
    "y = df_encoded['income']\n",
    "# Turn X,y to numpy aray\n",
    "X = X.to_numpy()\n",
    "y = y.to_numpy()\n",
    "# Turn data into tensors of dtype float\n",
    "X = torch.from_numpy(X).type(torch.float) # better way of doing it \n",
    "y = torch.from_numpy(y).type(torch.float)\n",
    "# Apply split function to split the data into train and test sets\n",
    "X_train, X_test, y_train, y_test = train_test_split(X, y, test_size = 0.3, random_state = Rnd_seed)\n",
    "print(f\"Train shapes : {X_train.shape, y_train.shape}\")\n",
    "print(f\" Test shapes : {X_test.shape, y_test.shape}\")   "
   ]
  },
  {
   "cell_type": "markdown",
   "metadata": {},
   "source": [
    "Apply Standardization to numerical variables"
   ]
  },
  {
   "cell_type": "code",
   "execution_count": 26,
   "metadata": {
    "execution": {
     "iopub.execute_input": "2023-05-18T16:33:42.833678Z",
     "iopub.status.busy": "2023-05-18T16:33:42.83329Z",
     "iopub.status.idle": "2023-05-18T16:33:42.846998Z",
     "shell.execute_reply": "2023-05-18T16:33:42.84605Z",
     "shell.execute_reply.started": "2023-05-18T16:33:42.833641Z"
    }
   },
   "outputs": [],
   "source": [
    "from sklearn.preprocessing import StandardScaler\n",
    "\n",
    "# Define the columns to standardize\n",
    "columns_to_standardize = [28, 29, 30, 31, 32, 33]\n",
    "\n",
    "# Create a StandardScaler object\n",
    "scaler = StandardScaler()\n",
    "\n",
    "# Convert X_train and X_test to NumPy arrays\n",
    "X_train_np = X_train.numpy()\n",
    "X_test_np = X_test.numpy()\n",
    "\n",
    "# Fit the scaler on the training data columns\n",
    "scaler.fit(X_train_np[:, columns_to_standardize])\n",
    "\n",
    "# Standardize the selected columns in both X_train and X_test\n",
    "X_train_np[:, columns_to_standardize] = scaler.transform(X_train_np[:, columns_to_standardize])\n",
    "X_test_np[:, columns_to_standardize] = scaler.transform(X_test_np[:, columns_to_standardize])\n",
    "\n",
    "# Convert back to PyTorch tensors\n",
    "X_train = torch.from_numpy(X_train_np).type(torch.float) \n",
    "X_test = torch.from_numpy(X_test_np).type(torch.float)\n"
   ]
  },
  {
   "cell_type": "markdown",
   "metadata": {},
   "source": [
    "# <span><h1 style = \"font-family: garamond; font-size: 40px; font-style: normal; letter-spcaing: 3px; background-color: #f6f5f5; color :#1e9570; border-radius: 100px 100px; text-align:center\">Feedforward NN with dropout a complex version of the model</h1></span> <a class='anchor' id='result'></a>\n",
    "\n",
    " "
   ]
  },
  {
   "cell_type": "code",
   "execution_count": 27,
   "metadata": {
    "execution": {
     "iopub.execute_input": "2023-05-18T16:33:42.848776Z",
     "iopub.status.busy": "2023-05-18T16:33:42.848433Z",
     "iopub.status.idle": "2023-05-18T16:33:42.859726Z",
     "shell.execute_reply": "2023-05-18T16:33:42.858896Z",
     "shell.execute_reply.started": "2023-05-18T16:33:42.848742Z"
    }
   },
   "outputs": [],
   "source": [
    "import torch.nn.functional as F\n",
    "\n",
    "class Classification_AdultCensus(nn.Module):\n",
    "    def __init__(self):\n",
    "        super().__init__()\n",
    "        self.layer_1 = nn.Linear(in_features=34, out_features=64)\n",
    "        self.layer_2 = nn.Linear(in_features=64, out_features=128)\n",
    "        self.layer_3 = nn.Linear(in_features=128, out_features=64)\n",
    "        self.layer_4 = nn.Linear(in_features=64, out_features=1)\n",
    "        self.relu = nn.ReLU()\n",
    "        self.dropout = nn.Dropout(0.1)\n",
    "\n",
    "    def forward(self, x: torch.Tensor) -> torch.Tensor:\n",
    "        x = self.dropout(self.relu(self.layer_1(x)))\n",
    "        x = self.dropout(self.relu(self.layer_2(x)))\n",
    "        x = self.dropout(self.relu(self.layer_3(x)))\n",
    "        network = self.layer_4(x)\n",
    "        return network\n",
    "\n",
    "# Instantiate the model\n",
    "model_1 = Classification_AdultCensus().to(DEVICE)\n"
   ]
  },
  {
   "cell_type": "code",
   "execution_count": 28,
   "metadata": {
    "execution": {
     "iopub.execute_input": "2023-05-18T16:33:42.861783Z",
     "iopub.status.busy": "2023-05-18T16:33:42.861327Z",
     "iopub.status.idle": "2023-05-18T16:34:03.140235Z",
     "shell.execute_reply": "2023-05-18T16:34:03.139087Z",
     "shell.execute_reply.started": "2023-05-18T16:33:42.861748Z"
    }
   },
   "outputs": [
    {
     "name": "stdout",
     "output_type": "stream",
     "text": [
      "Epoch: 0 | Loss: 0.7041 | Test Loss: 0.7034\n",
      "Epoch: 2000 | Loss: 0.3822 | Test Loss: 0.3789\n",
      "Epoch: 4000 | Loss: 0.3319 | Test Loss: 0.3269\n"
     ]
    },
    {
     "ename": "KeyboardInterrupt",
     "evalue": "",
     "output_type": "error",
     "traceback": [
      "\u001b[1;31m---------------------------------------------------------------------------\u001b[0m",
      "\u001b[1;31mKeyboardInterrupt\u001b[0m                         Traceback (most recent call last)",
      "Cell \u001b[1;32mIn[28], line 25\u001b[0m\n\u001b[0;32m     22\u001b[0m loss \u001b[38;5;241m=\u001b[39m criterion(y_logits, y_train)\n\u001b[0;32m     24\u001b[0m \u001b[38;5;66;03m# Backward pass and optimization\u001b[39;00m\n\u001b[1;32m---> 25\u001b[0m loss\u001b[38;5;241m.\u001b[39mbackward()\n\u001b[0;32m     26\u001b[0m optimizer\u001b[38;5;241m.\u001b[39mstep()\n\u001b[0;32m     28\u001b[0m \u001b[38;5;66;03m### Testing\u001b[39;00m\n",
      "File \u001b[1;32mD:\\anaconda\\Lib\\site-packages\\torch\\_tensor.py:487\u001b[0m, in \u001b[0;36mTensor.backward\u001b[1;34m(self, gradient, retain_graph, create_graph, inputs)\u001b[0m\n\u001b[0;32m    477\u001b[0m \u001b[38;5;28;01mif\u001b[39;00m has_torch_function_unary(\u001b[38;5;28mself\u001b[39m):\n\u001b[0;32m    478\u001b[0m     \u001b[38;5;28;01mreturn\u001b[39;00m handle_torch_function(\n\u001b[0;32m    479\u001b[0m         Tensor\u001b[38;5;241m.\u001b[39mbackward,\n\u001b[0;32m    480\u001b[0m         (\u001b[38;5;28mself\u001b[39m,),\n\u001b[1;32m   (...)\u001b[0m\n\u001b[0;32m    485\u001b[0m         inputs\u001b[38;5;241m=\u001b[39minputs,\n\u001b[0;32m    486\u001b[0m     )\n\u001b[1;32m--> 487\u001b[0m torch\u001b[38;5;241m.\u001b[39mautograd\u001b[38;5;241m.\u001b[39mbackward(\n\u001b[0;32m    488\u001b[0m     \u001b[38;5;28mself\u001b[39m, gradient, retain_graph, create_graph, inputs\u001b[38;5;241m=\u001b[39minputs\n\u001b[0;32m    489\u001b[0m )\n",
      "File \u001b[1;32mD:\\anaconda\\Lib\\site-packages\\torch\\autograd\\__init__.py:200\u001b[0m, in \u001b[0;36mbackward\u001b[1;34m(tensors, grad_tensors, retain_graph, create_graph, grad_variables, inputs)\u001b[0m\n\u001b[0;32m    195\u001b[0m     retain_graph \u001b[38;5;241m=\u001b[39m create_graph\n\u001b[0;32m    197\u001b[0m \u001b[38;5;66;03m# The reason we repeat same the comment below is that\u001b[39;00m\n\u001b[0;32m    198\u001b[0m \u001b[38;5;66;03m# some Python versions print out the first line of a multi-line function\u001b[39;00m\n\u001b[0;32m    199\u001b[0m \u001b[38;5;66;03m# calls in the traceback and some print out the last line\u001b[39;00m\n\u001b[1;32m--> 200\u001b[0m Variable\u001b[38;5;241m.\u001b[39m_execution_engine\u001b[38;5;241m.\u001b[39mrun_backward(  \u001b[38;5;66;03m# Calls into the C++ engine to run the backward pass\u001b[39;00m\n\u001b[0;32m    201\u001b[0m     tensors, grad_tensors_, retain_graph, create_graph, inputs,\n\u001b[0;32m    202\u001b[0m     allow_unreachable\u001b[38;5;241m=\u001b[39m\u001b[38;5;28;01mTrue\u001b[39;00m, accumulate_grad\u001b[38;5;241m=\u001b[39m\u001b[38;5;28;01mTrue\u001b[39;00m)\n",
      "\u001b[1;31mKeyboardInterrupt\u001b[0m: "
     ]
    }
   ],
   "source": [
    "\n",
    "\n",
    "# Set up the optimizer and loss function\n",
    "optimizer = torch.optim.SGD(model_1.parameters(), lr=0.01)\n",
    "criterion = nn.BCEWithLogitsLoss()\n",
    "\n",
    "torch.manual_seed(42)\n",
    "\n",
    "# Set the number of epochs\n",
    "epochs = 10000\n",
    "\n",
    "# Put data to the target device\n",
    "X_train, y_train = X_train.to(DEVICE), y_train.to(DEVICE)\n",
    "X_test, y_test = X_test.to(DEVICE), y_test.to(DEVICE)\n",
    "\n",
    "# Build the training and evaluation loop\n",
    "for epoch in range(epochs):\n",
    "    ### Training\n",
    "    model_1.train()\n",
    "    optimizer.zero_grad()\n",
    "\n",
    "    # Forward pass\n",
    "    y_logits = model_1(X_train).squeeze()\n",
    "    loss = criterion(y_logits, y_train)\n",
    "  \n",
    "    # Backward pass and optimization\n",
    "    loss.backward()\n",
    "    optimizer.step()\n",
    "\n",
    "    ### Testing\n",
    "    model_1.eval()\n",
    "    with torch.no_grad():\n",
    "        test_logits = model_1(X_test).squeeze()\n",
    "        test_loss = criterion(test_logits, y_test)\n",
    "        test_pred = torch.round(torch.sigmoid(test_logits))\n",
    "\n",
    "    if epoch % 2000 == 0:\n",
    "        print(f\"Epoch: {epoch} | Loss: {loss.item():.4f} | Test Loss: {test_loss.item():.4f}\")\n",
    "\n",
    "train_pred = torch.round(torch.sigmoid(model_1(X_train).squeeze()))\n",
    "test_pred = torch.round(torch.sigmoid(model_1(X_test).squeeze()))\n",
    "train_score = classification_report(y_train.cpu().detach().numpy(), train_pred.cpu().detach().numpy(), zero_division=1,digits=4,target_names=['<=50K', '>50K'])\n",
    "test_score = classification_report(y_test.cpu().detach().numpy(), test_pred.cpu().detach().numpy(), zero_division=1,digits=4,target_names=['<=50K', '>50K'])\n",
    "\n",
    "print(f\"\\nTrain Classification Report:\\n{train_score}\")\n",
    "print(f\"\\nTest Classification Report:\\n{test_score}\")\n"
   ]
  },
  {
   "cell_type": "code",
   "execution_count": null,
   "metadata": {
    "execution": {
     "iopub.execute_input": "2023-05-18T16:34:03.142454Z",
     "iopub.status.busy": "2023-05-18T16:34:03.141846Z",
     "iopub.status.idle": "2023-05-18T16:34:03.403935Z",
     "shell.execute_reply": "2023-05-18T16:34:03.402749Z",
     "shell.execute_reply.started": "2023-05-18T16:34:03.142402Z"
    }
   },
   "outputs": [],
   "source": [
    "\n",
    "y_test_np = y_test.cpu().detach().numpy().astype(int)  # Convert y_test to NumPy array of integers\n",
    "test_pred_np = test_pred.cpu().detach().numpy().astype(int)  # Convert test_pred to NumPy array of integers\n",
    "\n",
    "cm = confusion_matrix(y_test_np, test_pred_np)\n",
    "plt.figure(figsize=(10, 7))\n",
    "sns.heatmap(cm, annot=True, fmt=\"d\")\n",
    "plt.xlabel(\"Predicted Value\")\n",
    "plt.ylabel(\"Truth\")\n",
    "plt.show()"
   ]
  },
  {
   "cell_type": "code",
   "execution_count": null,
   "metadata": {
    "execution": {
     "iopub.execute_input": "2023-05-18T16:34:03.40958Z",
     "iopub.status.busy": "2023-05-18T16:34:03.408626Z",
     "iopub.status.idle": "2023-05-18T16:34:03.416957Z",
     "shell.execute_reply": "2023-05-18T16:34:03.416051Z",
     "shell.execute_reply.started": "2023-05-18T16:34:03.409545Z"
    }
   },
   "outputs": [],
   "source": [
    "print(f\"\\n Test Classification Report of the FIRST process :\\n{test_score_0}\")\n",
    "print(f\"\\n Test Classification Report of the SECOND process :\\n{test_score}\")"
   ]
  }
 ],
 "metadata": {
  "kernelspec": {
   "display_name": "Python 3 (ipykernel)",
   "language": "python",
   "name": "python3"
  },
  "language_info": {
   "codemirror_mode": {
    "name": "ipython",
    "version": 3
   },
   "file_extension": ".py",
   "mimetype": "text/x-python",
   "name": "python",
   "nbconvert_exporter": "python",
   "pygments_lexer": "ipython3",
   "version": "3.11.4"
  }
 },
 "nbformat": 4,
 "nbformat_minor": 4
}
